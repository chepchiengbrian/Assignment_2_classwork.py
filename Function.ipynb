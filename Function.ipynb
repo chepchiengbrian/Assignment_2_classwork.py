{
  "nbformat": 4,
  "nbformat_minor": 0,
  "metadata": {
    "colab": {
      "provenance": [],
      "authorship_tag": "ABX9TyOmn7nG0ztXh+VUTMUUm1bp",
      "include_colab_link": true
    },
    "kernelspec": {
      "name": "python3",
      "display_name": "Python 3"
    },
    "language_info": {
      "name": "python"
    }
  },
  "cells": [
    {
      "cell_type": "markdown",
      "metadata": {
        "id": "view-in-github",
        "colab_type": "text"
      },
      "source": [
        "<a href=\"https://colab.research.google.com/github/chepchiengbrian/Assignment_2_classwork.py/blob/main/Function.ipynb\" target=\"_parent\"><img src=\"https://colab.research.google.com/assets/colab-badge.svg\" alt=\"Open In Colab\"/></a>"
      ]
    },
    {
      "cell_type": "markdown",
      "source": [
        "**ENG-219-046/2023**\n",
        "\n",
        "\n",
        "---\n",
        "# BRIAN CHEPCHIENG\n"
      ],
      "metadata": {
        "id": "PKum7Bs9F9uA"
      }
    },
    {
      "cell_type": "markdown",
      "source": [
        "**Question 1**\n",
        "\n",
        "---\n",
        "Write a function called is_even which takes an integer as an argument and returns True if the argument is even, and otherwise returns False. Test your function for several values\n"
      ],
      "metadata": {
        "id": "aUlK-QckGOxX"
      }
    },
    {
      "cell_type": "code",
      "source": [
        "def is_even (integer):\n",
        "  return integer % 2 == 0\n",
        "user_input = int(input(\"Enter the integer\"))\n",
        "results = is_even (user_input)\n",
        "print(results)"
      ],
      "metadata": {
        "colab": {
          "base_uri": "https://localhost:8080/"
        },
        "id": "FjdNDATxJLYa",
        "outputId": "32d6a578-5774-46fa-a50e-13a1f9df97f5"
      },
      "execution_count": null,
      "outputs": [
        {
          "output_type": "stream",
          "name": "stdout",
          "text": [
            "Enter the integer8\n",
            "True\n"
          ]
        }
      ]
    },
    {
      "cell_type": "code",
      "source": [
        "def is_even(x):\n",
        "  if x % 2 == 0:\n",
        "    return True\n",
        "  else:\n",
        "    return False\n",
        "print( is_even(8))\n"
      ],
      "metadata": {
        "colab": {
          "base_uri": "https://localhost:8080/"
        },
        "id": "lPc2wen6N0Bb",
        "outputId": "5da702ab-1cc1-4769-ebc1-566ae79464eb"
      },
      "execution_count": null,
      "outputs": [
        {
          "output_type": "stream",
          "name": "stdout",
          "text": [
            "True\n"
          ]
        }
      ]
    },
    {
      "cell_type": "markdown",
      "source": [
        "**Question 2**\n",
        "\n",
        "---\n",
        "\n",
        "Write a single function named magnitude that takes each component of a vector of length 2 or 3 and returns the magnitude. Use default arguments to handle vectors of length 2 or 3 with the same code. Test your function for correctness against hand calculations for a selection of values."
      ],
      "metadata": {
        "id": "Zdhcit1TNhFK"
      }
    },
    {
      "cell_type": "code",
      "source": [
        "def magnitude(x, y, z):\n",
        "  return (x**2 + y**2 + z**2) * 1/2\n",
        "\n",
        "print (magnitude(3, 4, 5))"
      ],
      "metadata": {
        "colab": {
          "base_uri": "https://localhost:8080/"
        },
        "id": "g0HN6qk6RWfG",
        "outputId": "309eee75-86ce-421d-92fe-149e62076e34"
      },
      "execution_count": 1,
      "outputs": [
        {
          "output_type": "stream",
          "name": "stdout",
          "text": [
            "25.0\n"
          ]
        }
      ]
    },
    {
      "cell_type": "code",
      "source": [
        "def magnitude (*args):\n",
        "  return (sum (x**2 for x in args))**1/2\n",
        "\n",
        "print(magnitude(3, 4, 5))"
      ],
      "metadata": {
        "colab": {
          "base_uri": "https://localhost:8080/"
        },
        "id": "6Mu5Kim3z0nj",
        "outputId": "e6f2a9b4-36c5-4b6d-bdd0-2273c620cc0d"
      },
      "execution_count": 5,
      "outputs": [
        {
          "output_type": "stream",
          "name": "stdout",
          "text": [
            "25.0\n"
          ]
        }
      ]
    },
    {
      "cell_type": "markdown",
      "source": [
        "**Question**\n",
        "\n",
        "---\n",
        "\n",
        "Given the coordinates of the vertices of a triangle,  (x0,y0) ,  (x1,y1)  and  (x2,y2) , the area  A  of the triangle is given by:\n",
        "A=∣∣∣x0(y1−y2)+x1(y2−y0)+x2(y0−y1)2∣∣∣\n",
        "Write a function named` area` that computes the area of a triangle given the coordinates of the vertices. The order of the function arguments must be` (x0, y0, x1, y1, x2, y2)`.\n",
        "\n",
        "Test the output of your function against some known solutions."
      ],
      "metadata": {
        "id": "kWD2qnilz16z"
      }
    },
    {
      "cell_type": "code",
      "source": [
        "def area(x0, y0, x1, y1, x2, y2):\n",
        "      return abs((x0 * (y1-y2) + x1 * (y2-y0) + x2 * (y0-y1))/2)\n",
        "\n",
        "print(area(7, 8, 9, 4, 20, 4))"
      ],
      "metadata": {
        "colab": {
          "base_uri": "https://localhost:8080/"
        },
        "id": "0Ggzeya0077m",
        "outputId": "70f92b61-90a8-4316-9869-14b8b15e3d35"
      },
      "execution_count": 7,
      "outputs": [
        {
          "output_type": "stream",
          "name": "stdout",
          "text": [
            "22.0\n"
          ]
        }
      ]
    },
    {
      "cell_type": "code",
      "source": [
        "def area(*args):\n",
        "    x0, y0, x1, y1, x2, y2 = args\n",
        "    return abs((x0 * (y1 - y2) + x1 * (y2 - y0) + x2 * (y0 - y1)) / 2)\n",
        "\n",
        "print(area(7, 8, 9, 4, 20, 4))"
      ],
      "metadata": {
        "colab": {
          "base_uri": "https://localhost:8080/"
        },
        "id": "OTHSQZH69G9U",
        "outputId": "c080c568-0bd1-41d1-ffb0-f19a0669822f"
      },
      "execution_count": 8,
      "outputs": [
        {
          "output_type": "stream",
          "name": "stdout",
          "text": [
            "22.0\n"
          ]
        }
      ]
    },
    {
      "cell_type": "markdown",
      "source": [
        "**Question**\n",
        "\n",
        "---\n",
        "The factorial of a non-negative integer  n  is expressed recursively by:\n",
        "n!={1(n−1)!nn=0n>0\n",
        "\n",
        "Develop a function named factorial for computing the factorial using recursion. Test your function against the math.factorial function, e.g.\n",
        "\n"
      ],
      "metadata": {
        "id": "Zhao8tA09qg6"
      }
    },
    {
      "cell_type": "code",
      "source": [
        "def factorial(n):\n",
        "    import math\n",
        "    for i in range(n):\n",
        "        if n == 0:\n",
        "            return 1\n",
        "        else:\n",
        "            return n*math.factorial(n - 1)\n",
        "N=factorial(4)\n",
        "print(\"The factorial of 4 is\",N)"
      ],
      "metadata": {
        "colab": {
          "base_uri": "https://localhost:8080/"
        },
        "id": "kVfGAaEi9i_4",
        "outputId": "7fec2ea4-4e38-466a-9550-ca3f74566b8c"
      },
      "execution_count": 9,
      "outputs": [
        {
          "output_type": "stream",
          "name": "stdout",
          "text": [
            "The factorial of 4 is 24\n"
          ]
        }
      ]
    },
    {
      "cell_type": "code",
      "source": [
        "def factorial(n):\n",
        "    import math\n",
        "    for i in range(n):\n",
        "        if n == 0:\n",
        "            return 1\n",
        "        else:\n",
        "            return n*math.factorial(n - 1)\n",
        "N=factorial(4)\n",
        "print(\"The factorial of 4 is\",N)"
      ],
      "metadata": {
        "colab": {
          "base_uri": "https://localhost:8080/"
        },
        "id": "x-xM5SGZ99gq",
        "outputId": "7b9d411a-9d15-4f1e-d3c4-2cd909f0a80c"
      },
      "execution_count": 10,
      "outputs": [
        {
          "output_type": "stream",
          "name": "stdout",
          "text": [
            "The factorial of 4 is 24\n"
          ]
        }
      ]
    },
    {
      "cell_type": "markdown",
      "source": [
        "## Question\n",
        "\n",
        "Restructure your program from the bisection problem in Exercise 02 to\n",
        "\n",
        "- Use a Python function to evaluate the mathematical function $f$ that we want to find the root of;\n",
        "\n",
        "and then\n",
        "\n",
        "- Encapsulate the bisection algorithm inside a Python function, which takes as arguments:\n",
        "  1. the function we want to find the roots of\n",
        "  1. the points $x_{0}$ and $x_{1}$ between which we want to search for a root\n",
        "  1. the tolerance for exiting the bisection algorithm (exit when $|f(x)| < \\text{tol}$)\n",
        "  1. maximum number of iterations (the algorithm should exit once this limit is reached)\n",
        "\n",
        "For the first step, create a Python function for evaluating $f$, e.g.:z"
      ],
      "metadata": {
        "id": "NoRJae_t-TMo"
      }
    },
    {
      "cell_type": "code",
      "source": [
        "def my_f(x):\n",
        "      return x**5 / 10 + x**3 - 10 * x**2 + 4 * x + 7\n",
        "\n",
        ""
      ],
      "metadata": {
        "id": "FK_fcwS3-iwy"
      },
      "execution_count": 11,
      "outputs": []
    },
    {
      "cell_type": "code",
      "source": [
        "\n",
        "def compute_root(f, x0, x1, tol, max_it):\n",
        "    num_iterations = 0\n",
        "    f_mid = float('inf')\n",
        "\n",
        "    while abs(f_mid) > tol and num_iterations < max_it:\n",
        "        x_mid = (x0 + x1) / 2\n",
        "        f_mid = f(x_mid)\n",
        "\n",
        "        if f(x0) * f_mid < 0:\n",
        "            x1 = x_mid\n",
        "        else:\n",
        "            x0 = x_mid\n",
        "        num_iterations += 1\n",
        "    return x_mid, f_mid, num_iterations"
      ],
      "metadata": {
        "id": "S6x_7Ef8_Ter"
      },
      "execution_count": 14,
      "outputs": []
    },
    {
      "cell_type": "code",
      "source": [
        "import math\n",
        "x, f, num_it = compute_root(my_f, x0=0, x1=2, tol=1.0e-6, max_it=1000)\n",
        "\n",
        "\n",
        "assert math.isclose(x, 1.1568354368209839)"
      ],
      "metadata": {
        "id": "q-Dr1Jud_pad"
      },
      "execution_count": 15,
      "outputs": []
    },
    {
      "cell_type": "code",
      "source": [
        "def compute_root(f, x0, x1, tol, max_it, it_count=0):\n",
        "    x_mid = (x0 + x1) / 2\n",
        "    f_mid = f(x_mid)\n",
        "\n",
        "    if abs(f_mid) <= tol or it_count >= max_it:\n",
        "        return x_mid, f_mid, it_count\n",
        "\n",
        "    it_count += 1\n",
        "\n",
        "    if f(x0) * f_mid < 0:\n",
        "        return compute_root(f, x0, x_mid, tol, max_it, it_count)\n",
        "    else:\n",
        "        return compute_root(f, x_mid, x1, tol, max_it, it_count)"
      ],
      "metadata": {
        "id": "evSdR0-gAiGc"
      },
      "execution_count": 20,
      "outputs": []
    },
    {
      "cell_type": "code",
      "source": [
        "## tests ##\n",
        "x, f, num_it = compute_root(my_f, x0=0, x1=2, tol=1.0e-6, max_it=1000)\n",
        "assert math.isclose(x, 1.1568354368209839)"
      ],
      "metadata": {
        "id": "mjbOkqEY_za-"
      },
      "execution_count": 19,
      "outputs": []
    },
    {
      "cell_type": "code",
      "source": [],
      "metadata": {
        "id": "HHJwFGjHBPUt"
      },
      "execution_count": null,
      "outputs": []
    }
  ]
}